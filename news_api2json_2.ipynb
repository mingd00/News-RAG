{
  "cells": [
    {
      "cell_type": "markdown",
      "metadata": {
        "id": "view-in-github",
        "colab_type": "text"
      },
      "source": [
        "<a href=\"https://colab.research.google.com/github/mingd00/News-RAG/blob/main/news_api2json_2.ipynb\" target=\"_parent\"><img src=\"https://colab.research.google.com/assets/colab-badge.svg\" alt=\"Open In Colab\"/></a>"
      ]
    },
    {
      "cell_type": "code",
      "execution_count": 1,
      "id": "58b20dce-7dc9-4102-99c0-a8f8eac38408",
      "metadata": {
        "id": "58b20dce-7dc9-4102-99c0-a8f8eac38408"
      },
      "outputs": [],
      "source": [
        "import requests\n",
        "from bs4 import BeautifulSoup\n",
        "import time\n",
        "import json\n",
        "import re\n",
        "from urllib.parse import urlparse\n",
        "from email.utils import parsedate_to_datetime"
      ]
    },
    {
      "cell_type": "code",
      "execution_count": 2,
      "id": "22c5a5b2-5ee4-46cd-9ab7-466e5200d5ec",
      "metadata": {
        "id": "22c5a5b2-5ee4-46cd-9ab7-466e5200d5ec",
        "outputId": "c4b6f290-aec7-4496-e399-f936a3588217",
        "colab": {
          "base_uri": "https://localhost:8080/"
        }
      },
      "outputs": [
        {
          "output_type": "stream",
          "name": "stdout",
          "text": [
            "최경주가 2024년 5월15일 제주 서귀포 핀크스 콜프클럽에서 열린 한국프로골프투어(KPGA) SK텔레콤 채리티 오픈(자선경기)에서 10번홀 세컨 아이언샷을 하고 있다. (SK텔레콤 제공) 2024.5.15/뉴스1(제주=뉴스1) 고동명 기자 = 5월 한 달간 제주도내에서 총 22개 스포츠대회가 개최된다고 6일 제주도가 밝혔다.도에 따르면 국제대회로는 오는 24~25일 탑동공원과 성판악 일대에서 '제24회 제주 국제 울트라마라톤 대회'가 열린다. 이 대회에선 10개국 선수와 관계자 등 200여 명이 참가한다.전국대회로는 8일 'KPGA 클래식 골프대회'와 15일 'SK텔레콤2025 골프대회'가 연달아 개최된다. 전국에서 모인 프로골프선수 240여 명이 이들 대회에서 최강자를 가린다. 15일에는 '제80회 '제주 전국 학생테니스 선수권대회'도 예정돼 있다.도내 대회는 지난 3일 열린 제3회 '제주특별자치도체육회장배 전도파크골프대회'를 시작으로 4일 '2025 도족구협회장배 전도족구대회', 10일 '2025 제37회 미스터제주 챔피언십', 17일 '제17회 미디어제주기 전도 유소년 축구대회' 등이 도내 곳곳에서 펼쳐진다.이외에도 △2025 제주 챌린저컵 유소년 축구 리그 대회(3~4일, 외도구장) △제26회 KCTV배 제주도 배드민턴 대회(10~11일, 제주복합체육관) △제25회 도협회장배 전도여성게이트볼대회(24일, 제주복합체육관) 등 다양한 종목 대회가 열린다.장애인대회로는 9일 '제19회 제주도지사배 전국장애인사이클대회'를 시작으로 11일 '제3회 제주도장애인 수영연맹회장배 어울림수영대회', 15일 '제16회 전도시각장애인플라잉디스크대회 및 한·일 국제플라잉디스크교류대회', 31일 '제4회 제주시 어울림 생활체육대회'가 열린다.도는 이달 열리는 국제대회에선 11억 2600만 원, 전국대회는 80억 8000만 원, 도내대회는 3억 8200만 원 등의 지역경제 파급효과를 예상하고 있다.\n"
          ]
        }
      ],
      "source": [
        "def get_article_content(url: str) -> str:\n",
        "    \"\"\"\n",
        "    주어진 URL에서 기사 본문을 추출하는 함수.\n",
        "\n",
        "    :param url: 뉴스 기사 페이지의 URL\n",
        "    :return: 기사 본문 텍스트 (사진은 제외됨)\n",
        "    \"\"\"\n",
        "    try:\n",
        "        # 웹 페이지 요청 보내기\n",
        "        response = requests.get(url)\n",
        "\n",
        "        # 요청이 성공적일 때\n",
        "        if response.status_code == 200:\n",
        "            # BeautifulSoup을 사용해 HTML 파싱\n",
        "            soup = BeautifulSoup(response.text, 'html.parser')\n",
        "\n",
        "            # 기사 본문이 들어있는 <article> 태그 찾기\n",
        "            article = soup.find('article', {'id': 'dic_area', 'class': 'go_trans _article_content'})\n",
        "\n",
        "            # 기사 본문 추출\n",
        "            if article:\n",
        "                content = article.get_text(strip=True)\n",
        "                return content\n",
        "            else:\n",
        "                return \"기사 본문을 찾을 수 없습니다.\"\n",
        "        else:\n",
        "            return f\"웹사이트 요청 실패: {response.status_code}\"\n",
        "\n",
        "    except Exception as e:\n",
        "        return f\"오류 발생: {str(e)}\"\n",
        "\n",
        "\n",
        "# 사용 예시\n",
        "url = 'https://n.news.naver.com/mnews/article/421/0008233058?sid=102'  # 여기에 실제 뉴스 기사 URL을 넣으세요\n",
        "article_content = get_article_content(url)\n",
        "print(article_content)"
      ]
    },
    {
      "cell_type": "code",
      "execution_count": 3,
      "id": "a4ad4b8a-0f9d-4239-836d-06660da54a3a",
      "metadata": {
        "id": "a4ad4b8a-0f9d-4239-836d-06660da54a3a"
      },
      "outputs": [],
      "source": [
        "news_media_mapping = {\n",
        "    \"yonhapnews.co.kr\": \"연합뉴스\",\n",
        "    \"yonhapnewstv.co.kr\": \"연합뉴스TV\",\n",
        "    \"news1.kr\": \"뉴스1\",\n",
        "    \"edu.donga.com\": \"동아일보\",\n",
        "    \"biz.heraldcorp.com\": \"헤럴드경제\",\n",
        "    \"daily.hankooki.com\": \"한국일보\",\n",
        "    \"kmib.co.kr\": \"기독교일보\",\n",
        "    \"kbs.co.kr\": \"KBS\",\n",
        "    \"munhwa.com\": \"문화일보\",\n",
        "    \"sports.naver.com\": \"네이버 스포츠\",\n",
        "    \"newsis.com\": \"뉴시스\",\n",
        "    \"segye.com\": \"세계일보\",\n",
        "    \"hankooki.com\": \"한겨레\",\n",
        "    \"chosun.com\": \"조선일보\",\n",
        "    \"joongang.co.kr\": \"중앙일보\",\n",
        "    \"khan.co.kr\": \"경향신문\",\n",
        "    \"hani.co.kr\": \"한겨레\",\n",
        "    \"sports.chosun.com\": \"스포츠조선\",\n",
        "    \"sports.donga.com\": \"스포츠동아\",\n",
        "    \"news.naver.com\": \"네이버 뉴스\",\n",
        "    \"n.news.naver.com\": \"네이버 뉴스\",\n",
        "    \"m.post.naver.com\": \"네이버 포스트\",\n",
        "    \"seoul.co.kr\": \"서울신문\",\n",
        "    \"etnews.com\": \"전자신문\",\n",
        "    \"ytn.co.kr\": \"YTN\",\n",
        "    \"tbs.seoul.kr\": \"TBS\",\n",
        "    \"mbn.co.kr\": \"MBN 뉴스\",\n",
        "    \"news.kmib.co.kr\": \"국민일보\",\n",
        "    \"newdaily.co.kr\": \"뉴데일리\",\n",
        "    \"yna.co.kr\": \"연합뉴스\",\n",
        "    \"naeil.com\": \"내일신문\",\n",
        "    \"kihoilbo.co.kr\": \"기호일보\",\n",
        "    \"edaily.co.kr\": \"이데일리\",\n",
        "    \"fnnews.com\": \"파이넨셜뉴스\",\n",
        "    \"hankyung.com\": \"한경\",\n",
        "    \"incheonnews.com\": \"인천뉴스\",\n",
        "    \"bloter.net\": \"BROTER\",\n",
        "    \"dt.co.kr\": \"디지털타임스\",\n",
        "    \"sentv.co.kr\": \"서울경제TV\" ,\n",
        "    \"econovill.com\": \"이코노믹 리뷰\",\n",
        "    \"nytimes.com\": \"The New York Times\",\n",
        "    \"digitaltoday.co.kr\": \"Digital Today\",\n",
        "    \"koreajoongangdaily.joins.com\": \"Korea JoongAng Daily\",\n",
        "    \"ddaily.co.kr\": \"디지털 데일리\",\n",
        "    \"hankyung.com\": \"한국경제신문\",\n",
        "    \"sedaily.com\": \"서울경제\",\n",
        "    \"sportsseoul.com\": \"스포츠서울\",\n",
        "    \"joongboo.com\": \"중부일보\",\n",
        "    \"nocutnews.co.kr\": \"노컷뉴스\",\n",
        "    \"imbc.com\": \"MBC 뉴스\",\n",
        "    \"news.mt.co.kr\": \"머니투데이\",\n",
        "}"
      ]
    },
    {
      "cell_type": "code",
      "execution_count": 4,
      "id": "7eef9265-883b-4434-8643-acb1d57f3e78",
      "metadata": {
        "id": "7eef9265-883b-4434-8643-acb1d57f3e78"
      },
      "outputs": [],
      "source": [
        "# URL에서 도메인 추출 함수\n",
        "def extract_domain(url):\n",
        "    parsed_url = urlparse(url)\n",
        "    domain = parsed_url.hostname\n",
        "    if domain.startswith(\"www.\"):\n",
        "        domain = domain[4:]  # \"www.\" 제거\n",
        "    return domain"
      ]
    },
    {
      "cell_type": "code",
      "execution_count": 5,
      "id": "613609a8-3706-43e1-bdc8-aa65d4039c90",
      "metadata": {
        "id": "613609a8-3706-43e1-bdc8-aa65d4039c90"
      },
      "outputs": [],
      "source": [
        "# 태그 제거\n",
        "def clean_html_tags(text):\n",
        "    return re.sub(r\"<.*?>\", \"\", text)\n",
        "\n",
        "# 날짜 형식 지정\n",
        "def format_date(pub_date_str):\n",
        "    try:\n",
        "        dt = parsedate_to_datetime(pub_date_str)\n",
        "        return dt.strftime(\"%Y-%m-%d %H:%M\")  # 예: 2025-05-06 10:59\n",
        "    except Exception as e:\n",
        "        print(f\"날짜 파싱 오류: {e}\")\n",
        "        return pub_date_str"
      ]
    },
    {
      "cell_type": "code",
      "execution_count": 6,
      "id": "c021175c-7de3-43f0-b5bf-08b960e61493",
      "metadata": {
        "id": "c021175c-7de3-43f0-b5bf-08b960e61493"
      },
      "outputs": [],
      "source": [
        "# 네이버 API 키 (자신의 API 키로 교체하세요)\n",
        "client_id = \"gh33NVdUbiTCVrbFAQhV\"\n",
        "client_secret = \"Wg6SoJlOj6\"\n",
        "\n",
        "# 뉴스 데이터를 담을 리스트\n",
        "news_data = []"
      ]
    },
    {
      "cell_type": "code",
      "source": [
        "# 요청 URL을 위한 기본 설정\n",
        "base_url = \"https://openapi.naver.com/v1/search/news.json\"\n",
        "\n",
        "# 네이버 API 요청 헤더 설정\n",
        "headers = {\n",
        "    \"X-Naver-Client-Id\": client_id,\n",
        "    \"X-Naver-Client-Secret\": client_secret\n",
        "}"
      ],
      "metadata": {
        "id": "bxSvJYZGRiJA"
      },
      "id": "bxSvJYZGRiJA",
      "execution_count": 7,
      "outputs": []
    },
    {
      "cell_type": "code",
      "source": [
        "keywords = [\n",
        "    \"정치\", \"경제\", \"사회\", \"문화\", \"IT\", \"스포츠\"\n",
        "]"
      ],
      "metadata": {
        "id": "5u3gykDxMEIX"
      },
      "id": "5u3gykDxMEIX",
      "execution_count": 8,
      "outputs": []
    },
    {
      "cell_type": "code",
      "source": [
        "total_news_count = 500\n",
        "display_count = 100\n",
        "total_pages = total_news_count // display_count\n",
        "\n",
        "news_data = []\n",
        "\n",
        "for keyword in keywords:\n",
        "    print(f\"🔍 '{keyword}' 키워드 수집 시작, 현재까지 리스트 길이: {len(news_data)}\")\n",
        "\n",
        "    for start in range(1, total_pages + 1):\n",
        "        params = {\n",
        "            \"query\": keyword,\n",
        "            \"display\": display_count,\n",
        "            \"start\": (start - 1) * display_count + 1,\n",
        "            \"sort\": \"sim\"\n",
        "        }\n",
        "\n",
        "        try:\n",
        "            response = requests.get(base_url, headers=headers, params=params)\n",
        "            data = response.json()\n",
        "\n",
        "            for item in data[\"items\"]:\n",
        "                if item[\"link\"].startswith(\"https://n.news.naver.com/\"):\n",
        "                    news_item = {\n",
        "                        \"title\": clean_html_tags(item[\"title\"]),\n",
        "                        \"date\": format_date(item[\"pubDate\"]),\n",
        "                        \"link\": item[\"link\"],\n",
        "                        \"content\": get_article_content(item[\"link\"]),\n",
        "                        \"journal\": news_media_mapping.get(extract_domain(item[\"originallink\"]), \"Unknown\")\n",
        "                    }\n",
        "                    news_data.append(news_item)\n",
        "\n",
        "            time.sleep(1)\n",
        "\n",
        "        except Exception as e:\n",
        "            print(f\"❌ '{keyword}' 키워드의 {start}페이지에서 오류 발생: {e}\")\n",
        "            break\n",
        "\n",
        "print(f\"✅ 전체 수집 완료! 총 수집된 기사 수: {len(news_data)}\")\n"
      ],
      "metadata": {
        "id": "FlcrI6mlRhGI",
        "outputId": "8a9775bd-c4f0-4935-a18f-418afc1bca59",
        "colab": {
          "base_uri": "https://localhost:8080/"
        }
      },
      "id": "FlcrI6mlRhGI",
      "execution_count": 9,
      "outputs": [
        {
          "output_type": "stream",
          "name": "stdout",
          "text": [
            "🔍 '정치' 키워드 수집 시작, 현재까지 리스트 길이: 0\n",
            "🔍 '경제' 키워드 수집 시작, 현재까지 리스트 길이: 408\n",
            "🔍 '사회' 키워드 수집 시작, 현재까지 리스트 길이: 713\n",
            "🔍 '문화' 키워드 수집 시작, 현재까지 리스트 길이: 935\n",
            "🔍 'IT' 키워드 수집 시작, 현재까지 리스트 길이: 1161\n",
            "❌ 'IT' 키워드의 5페이지에서 오류 발생: 'NoneType' object has no attribute 'startswith'\n",
            "🔍 '스포츠' 키워드 수집 시작, 현재까지 리스트 길이: 1353\n",
            "✅ 전체 수집 완료! 총 수집된 기사 수: 1519\n"
          ]
        }
      ]
    },
    {
      "cell_type": "code",
      "source": [
        "# 결과를 JSON 파일로 저장\n",
        "with open(\"news.json\", \"w\", encoding=\"utf-8\") as f:\n",
        "    json.dump(news_data, f, ensure_ascii=False, indent=4)\n",
        "\n",
        "print(f\"총 {len(news_data)}개의 뉴스가 저장되었습니다.\")"
      ],
      "metadata": {
        "id": "MwOWIrUJRrva",
        "outputId": "91c3c1fd-c723-4a88-f460-c0d838bba076",
        "colab": {
          "base_uri": "https://localhost:8080/"
        }
      },
      "id": "MwOWIrUJRrva",
      "execution_count": 11,
      "outputs": [
        {
          "output_type": "stream",
          "name": "stdout",
          "text": [
            "총 1519개의 뉴스가 저장되었습니다.\n"
          ]
        }
      ]
    },
    {
      "cell_type": "code",
      "execution_count": 12,
      "id": "dc356d9e-2dad-4f77-85a2-298d419ed0b6",
      "metadata": {
        "id": "dc356d9e-2dad-4f77-85a2-298d419ed0b6",
        "outputId": "4b29a94a-a2aa-4d7d-bd77-6b1ea63177fe",
        "colab": {
          "base_uri": "https://localhost:8080/"
        }
      },
      "outputs": [
        {
          "output_type": "stream",
          "name": "stdout",
          "text": [
            "Unknown인 데이터 개수: 546\n"
          ]
        }
      ],
      "source": [
        "# \"journal\" 값이 \"Unknown\"인 데이터 개수 세기\n",
        "unknown_count = sum(1 for item in news_data if item['journal'] == 'Unknown')\n",
        "\n",
        "# 개수 출력\n",
        "print(f'Unknown인 데이터 개수: {unknown_count}')"
      ]
    },
    {
      "cell_type": "code",
      "source": [
        "# \"journal\" 값이 \"Unknown\"이 아닌 데이터만 남김\n",
        "filtered_data = [item for item in news_data if item['journal'] != 'Unknown']\n",
        "\n",
        "# 새로운 JSON 파일로 저장\n",
        "with open('news_data.json', 'w', encoding='utf-8') as f:\n",
        "    json.dump(filtered_data, f, ensure_ascii=False, indent=4)\n",
        "\n",
        "print(f'Unknown 값을 제거한 후 남은 데이터 개수: {len(filtered_data)}')"
      ],
      "metadata": {
        "id": "8n46K3zFLO7T",
        "outputId": "175363b7-71c5-4123-f7f4-3cee7f8dd3b2",
        "colab": {
          "base_uri": "https://localhost:8080/"
        }
      },
      "id": "8n46K3zFLO7T",
      "execution_count": 13,
      "outputs": [
        {
          "output_type": "stream",
          "name": "stdout",
          "text": [
            "Unknown 값을 제거한 후 남은 데이터 개수: 973\n"
          ]
        }
      ]
    },
    {
      "cell_type": "code",
      "source": [
        "# 저장된 JSON 파일 열기\n",
        "with open(\"news_data.json\", \"r\", encoding=\"utf-8\") as f:\n",
        "    news_data = json.load(f)\n",
        "\n",
        "# 첫 번째 뉴스의 content 확인\n",
        "first_news_content = news_data[0]\n",
        "\n",
        "print(first_news_content)"
      ],
      "metadata": {
        "id": "W_eds3Te6UvM",
        "colab": {
          "base_uri": "https://localhost:8080/"
        },
        "outputId": "37a8b4cb-0a9e-43ae-f8e6-3ce6f732f1e8"
      },
      "id": "W_eds3Te6UvM",
      "execution_count": 14,
      "outputs": [
        {
          "output_type": "stream",
          "name": "stdout",
          "text": [
            "{'title': '국힘 &quot;이재명 면죄입법 철회해야…정치압력에 李공판 연기&quot;', 'date': '2025-05-07 15:52', 'link': 'https://n.news.naver.com/mnews/article/001/0015373742?sid=100', 'content': '의총서 민주당 선거법·형소법 개정안 추진 규탄권성동 \"李공판기일 연기 참으로 유감·개탄스럽다\"(서울=연합뉴스) 류미나 조다운 기자 = 국민의힘은 7일 더불어민주당이 형사소송법 및 공직선거법 개정안을 추진하는 데 대해 \"피고인 이재명 면죄입법을 즉시 철회하라\"고 촉구했다.국민의힘은 이날 오후 의원총회에서 대통령 당선 시 진행 중인 형사 재판을 정지시키는 내용의 형사소송법 개정안과 허위사실공표죄 조항을 손질하는 공직선거법 개정안 처리에 나선 민주당을 향해 이같이 요구했다.권성동 원내대표는 모두발언에서 \"법제사법위원회와 행정안전위원회에서는 일제히 이재명의 유죄를 무산시키는 법안을 상정했다\"고 말했다.이어 \"이재명을 처벌 못 하도록 허위사실공표죄를 개정하는 선거법 개정안, 이재명이 대통령이 되면 재판을 중단시키는 형소법 개정안을 강행 처리할 예정\"이라며 \"이런 무도한 집단이 깡패 집단이지 정당이라고 할 수 있나\"라고 비난했다.그러면서 \"민주당에 제안한다. 차라리 \\'이재명 유죄 금지법\\'을 제정하라. 이 사람은 신성불가침의 존재이니까 무조건 무죄라고 쓰고 일방 처리하라\"고 꼬집었다.권 원내대표는 \"왜 애꿎은 허위사실공표죄를 개정하는가\"라며 \"위증교사죄를 폐지하고, \\'대장동·백현동 배임죄\\'를 폐지하라. \\'김정은 통치자금 상납법\\', \\'유엔대북제재 탈퇴법\\'은 왜 제정 안 하나\"라고 비꼬았다.아울러 \"국회는 범죄자 이재명을 위한 면죄부 발급의 도구로 전락했다\"며 \"이재명을 히틀러, 스탈린에게 비유하기도 아깝다. 유죄 판결을 내렸다고 대법원장, 대법관을 고발하는 이재명 세력의 행태를 보면 \\'표현의 자유\\'는 있지만 \\'표현 이후의 자유\\'는 보장해줄 수 없다고 했던 아프리카 우간다의 유명한 이디 아민 전 대통령의 엽기적 독재가 떠오른다\"라고도 덧붙였다.서지영 원내대변인도 논평에서 \"\\'정치범 호소인\\' 이재명과 \\'이재명 셀프 면죄부\\' 만들기에 전념인 민주당은 국민의 심판을 받을 것\"이라고 말했다.국민의힘은 민주당 이재명 대선 후보의 선거법 파기환송심 첫 공판이 대선 이후로 연기된 것에 대해서는 \"정치 압력\"의 결과라며 강하게 비판했다.권 원내대표는 \"권력의 위협에 굴하지 않고 흔들림 없이 재판을 진행하는 게 삼권분립, 헌정질서를 지키는 사법부의 책무인데도 오늘 이재명의 2심 파기환송 재판부는 이재명 세력의 압력에 밀려서 공판 기일을 한 달 연기했다\"며 \"참으로 유감스럽고 개탄스럽다\"고 밝혔다.김문수 후보 캠프의 김혜지 상근부대변인도 \"단순한 일정 조정이 아니다\"라며 \"대법원이 유죄 취지로 파기한 사건을 앞두고 민주당 측의 노골적인 정치 압력이 작동했다고 의심하지 않을 수 없다\"고 논평했다.구호 외치는 국민의힘 의원들(서울=연합뉴스) 김주성 기자 = 국민의힘 권성동 원내대표를 비롯한 의원들이 7일 서울 여의도 국회에서 열린 의원총회에서 더불어민주당 주도의 \\'대통령 당선시 재판정지\\' 형사소송법 개정안에 대한 국회 법제사법위원회 의결에 반대하며 \"이재명 면죄 입법 반대\" 구호를 외치고 있다. 2025.5.7 utzza@yna.co.krminaryo@yna.co.kr', 'journal': '연합뉴스'}\n"
          ]
        }
      ]
    },
    {
      "cell_type": "code",
      "source": [
        "# 조건에 맞는 항목 개수 세기\n",
        "count = sum(1 for item in news_data if item.get(\"content\") == \"본문을 크롤링할 수 없습니다.\")\n",
        "\n",
        "print(f'\"본문을 크롤링할 수 없습니다.\"인 항목 수: {count}')"
      ],
      "metadata": {
        "colab": {
          "base_uri": "https://localhost:8080/"
        },
        "id": "Vt54YXQuiPxJ",
        "outputId": "517b625f-913b-4183-cf23-9a136b7552f1"
      },
      "id": "Vt54YXQuiPxJ",
      "execution_count": 15,
      "outputs": [
        {
          "output_type": "stream",
          "name": "stdout",
          "text": [
            "\"본문을 크롤링할 수 없습니다.\"인 항목 수: 0\n"
          ]
        }
      ]
    },
    {
      "cell_type": "code",
      "source": [],
      "metadata": {
        "id": "r081MChDjFeu"
      },
      "id": "r081MChDjFeu",
      "execution_count": null,
      "outputs": []
    }
  ],
  "metadata": {
    "kernelspec": {
      "display_name": "Python 3 (ipykernel)",
      "language": "python",
      "name": "python3"
    },
    "language_info": {
      "codemirror_mode": {
        "name": "ipython",
        "version": 3
      },
      "file_extension": ".py",
      "mimetype": "text/x-python",
      "name": "python",
      "nbconvert_exporter": "python",
      "pygments_lexer": "ipython3",
      "version": "3.12.7"
    },
    "colab": {
      "provenance": [],
      "include_colab_link": true
    }
  },
  "nbformat": 4,
  "nbformat_minor": 5
}