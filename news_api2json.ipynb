{
  "cells": [
    {
      "cell_type": "markdown",
      "metadata": {
        "id": "view-in-github",
        "colab_type": "text"
      },
      "source": [
        "<a href=\"https://colab.research.google.com/github/mingd00/News-RAG/blob/main/news_api2json.ipynb\" target=\"_parent\"><img src=\"https://colab.research.google.com/assets/colab-badge.svg\" alt=\"Open In Colab\"/></a>"
      ]
    },
    {
      "cell_type": "code",
      "execution_count": 1,
      "id": "58b20dce-7dc9-4102-99c0-a8f8eac38408",
      "metadata": {
        "id": "58b20dce-7dc9-4102-99c0-a8f8eac38408"
      },
      "outputs": [],
      "source": [
        "import requests\n",
        "from bs4 import BeautifulSoup\n",
        "import time\n",
        "import json\n",
        "import re\n",
        "from urllib.parse import urlparse\n",
        "from email.utils import parsedate_to_datetime"
      ]
    },
    {
      "cell_type": "code",
      "execution_count": 2,
      "id": "22c5a5b2-5ee4-46cd-9ab7-466e5200d5ec",
      "metadata": {
        "id": "22c5a5b2-5ee4-46cd-9ab7-466e5200d5ec",
        "outputId": "27a726f9-a502-42dd-c1eb-98681b493d77",
        "colab": {
          "base_uri": "https://localhost:8080/"
        }
      },
      "outputs": [
        {
          "output_type": "stream",
          "name": "stdout",
          "text": [
            "최경주가 2024년 5월15일 제주 서귀포 핀크스 콜프클럽에서 열린 한국프로골프투어(KPGA) SK텔레콤 채리티 오픈(자선경기)에서 10번홀 세컨 아이언샷을 하고 있다. (SK텔레콤 제공) 2024.5.15/뉴스1(제주=뉴스1) 고동명 기자 = 5월 한 달간 제주도내에서 총 22개 스포츠대회가 개최된다고 6일 제주도가 밝혔다.도에 따르면 국제대회로는 오는 24~25일 탑동공원과 성판악 일대에서 '제24회 제주 국제 울트라마라톤 대회'가 열린다. 이 대회에선 10개국 선수와 관계자 등 200여 명이 참가한다.전국대회로는 8일 'KPGA 클래식 골프대회'와 15일 'SK텔레콤2025 골프대회'가 연달아 개최된다. 전국에서 모인 프로골프선수 240여 명이 이들 대회에서 최강자를 가린다. 15일에는 '제80회 '제주 전국 학생테니스 선수권대회'도 예정돼 있다.도내 대회는 지난 3일 열린 제3회 '제주특별자치도체육회장배 전도파크골프대회'를 시작으로 4일 '2025 도족구협회장배 전도족구대회', 10일 '2025 제37회 미스터제주 챔피언십', 17일 '제17회 미디어제주기 전도 유소년 축구대회' 등이 도내 곳곳에서 펼쳐진다.이외에도 △2025 제주 챌린저컵 유소년 축구 리그 대회(3~4일, 외도구장) △제26회 KCTV배 제주도 배드민턴 대회(10~11일, 제주복합체육관) △제25회 도협회장배 전도여성게이트볼대회(24일, 제주복합체육관) 등 다양한 종목 대회가 열린다.장애인대회로는 9일 '제19회 제주도지사배 전국장애인사이클대회'를 시작으로 11일 '제3회 제주도장애인 수영연맹회장배 어울림수영대회', 15일 '제16회 전도시각장애인플라잉디스크대회 및 한·일 국제플라잉디스크교류대회', 31일 '제4회 제주시 어울림 생활체육대회'가 열린다.도는 이달 열리는 국제대회에선 11억 2600만 원, 전국대회는 80억 8000만 원, 도내대회는 3억 8200만 원 등의 지역경제 파급효과를 예상하고 있다.\n"
          ]
        }
      ],
      "source": [
        "def get_article_content(url: str) -> str:\n",
        "    \"\"\"\n",
        "    주어진 URL에서 기사 본문을 추출하는 함수.\n",
        "\n",
        "    :param url: 뉴스 기사 페이지의 URL\n",
        "    :return: 기사 본문 텍스트 (사진은 제외됨)\n",
        "    \"\"\"\n",
        "    try:\n",
        "        # 웹 페이지 요청 보내기\n",
        "        response = requests.get(url)\n",
        "\n",
        "        # 요청이 성공적일 때\n",
        "        if response.status_code == 200:\n",
        "            # BeautifulSoup을 사용해 HTML 파싱\n",
        "            soup = BeautifulSoup(response.text, 'html.parser')\n",
        "\n",
        "            # 기사 본문이 들어있는 <article> 태그 찾기\n",
        "            article = soup.find('article', {'id': 'dic_area', 'class': 'go_trans _article_content'})\n",
        "\n",
        "            # 기사 본문 추출\n",
        "            if article:\n",
        "                content = article.get_text(strip=True)\n",
        "                return content\n",
        "            else:\n",
        "                return \"기사 본문을 찾을 수 없습니다.\"\n",
        "        else:\n",
        "            return f\"웹사이트 요청 실패: {response.status_code}\"\n",
        "\n",
        "    except Exception as e:\n",
        "        return f\"오류 발생: {str(e)}\"\n",
        "\n",
        "\n",
        "# 사용 예시\n",
        "url = 'https://n.news.naver.com/mnews/article/421/0008233058?sid=102'  # 여기에 실제 뉴스 기사 URL을 넣으세요\n",
        "article_content = get_article_content(url)\n",
        "print(article_content)"
      ]
    },
    {
      "cell_type": "code",
      "execution_count": null,
      "id": "a4ad4b8a-0f9d-4239-836d-06660da54a3a",
      "metadata": {
        "id": "a4ad4b8a-0f9d-4239-836d-06660da54a3a"
      },
      "outputs": [],
      "source": [
        "news_media_mapping = {\n",
        "    \"yonhapnews.co.kr\": \"연합뉴스\",\n",
        "    \"yonhapnewstv.co.kr\": \"연합뉴스TV\",\n",
        "    \"news1.kr\": \"뉴스1\",\n",
        "    \"edu.donga.com\": \"동아일보\",\n",
        "    \"biz.heraldcorp.com\": \"헤럴드경제\",\n",
        "    \"daily.hankooki.com\": \"한국일보\",\n",
        "    \"kmib.co.kr\": \"기독교일보\",\n",
        "    \"kbs.co.kr\": \"KBS\",\n",
        "    \"munhwa.com\": \"문화일보\",\n",
        "    \"sports.naver.com\": \"네이버 스포츠\",\n",
        "    \"newsis.com\": \"뉴시스\",\n",
        "    \"segye.com\": \"세계일보\",\n",
        "    \"hankooki.com\": \"한겨레\",\n",
        "    \"chosun.com\": \"조선일보\",\n",
        "    \"joongang.co.kr\": \"중앙일보\",\n",
        "    \"khan.co.kr\": \"경향신문\",\n",
        "    \"hani.co.kr\": \"한겨레\",\n",
        "    \"sports.chosun.com\": \"스포츠조선\",\n",
        "    \"sports.donga.com\": \"스포츠동아\",\n",
        "    \"news.naver.com\": \"네이버 뉴스\",\n",
        "    \"n.news.naver.com\": \"네이버 뉴스\",\n",
        "    \"m.post.naver.com\": \"네이버 포스트\",\n",
        "    \"seoul.co.kr\": \"서울신문\",\n",
        "    \"etnews.com\": \"전자신문\",\n",
        "    \"ytn.co.kr\": \"YTN\",\n",
        "    \"tbs.seoul.kr\": \"TBS\",\n",
        "    \"mbn.co.kr\": \"MBN 뉴스\",\n",
        "    \"news.kmib.co.kr\": \"국민일보\",\n",
        "    \"newdaily.co.kr\": \"뉴데일리\",\n",
        "    \"yna.co.kr\": \"연합뉴스\",\n",
        "    \"naeil.com\": \"내일신문\",\n",
        "    \"kihoilbo.co.kr\": \"기호일보\",\n",
        "    \"edaily.co.kr\": \"이데일리\",\n",
        "    \"fnnews.com\": \"파이넨셜뉴스\",\n",
        "    \"hankyung.com\": \"한경\",\n",
        "    \"incheonnews.com\": \"인천뉴스\",\n",
        "    \"bloter.net\": \"BROTER\",\n",
        "    \"dt.co.kr\": \"디지털타임스\",\n",
        "    \"sentv.co.kr\": \"서울경제TV\" ,\n",
        "    \"econovill.com\": \"이코노믹 리뷰\",\n",
        "    \"nytimes.com\": \"The New York Times\",\n",
        "    \"digitaltoday.co.kr\": \"Digital Today\",\n",
        "    \"koreajoongangdaily.joins.com\": \"Korea JoongAng Daily\",\n",
        "    \"ddaily.co.kr\": \"디지털 데일리\",\n",
        "    \"hankyung.com\": \"한국경제신문\",\n",
        "    \"sedaily.com\": \"서울경제\",\n",
        "    \"sportsseoul.com\": \"스포츠서울\",\n",
        "    \"joongboo.com\": \"중부일보\",\n",
        "    \"nocutnews.co.kr\": \"노컷뉴스\",\n",
        "    \"imbc.com\": \"MBC 뉴스\",\n",
        "    \"news.mt.co.kr\": \"머니투데이\",\n",
        "}"
      ]
    },
    {
      "cell_type": "code",
      "execution_count": null,
      "id": "7eef9265-883b-4434-8643-acb1d57f3e78",
      "metadata": {
        "id": "7eef9265-883b-4434-8643-acb1d57f3e78"
      },
      "outputs": [],
      "source": [
        "# URL에서 도메인 추출 함수\n",
        "def extract_domain(url):\n",
        "    parsed_url = urlparse(url)\n",
        "    domain = parsed_url.hostname\n",
        "    if domain.startswith(\"www.\"):\n",
        "        domain = domain[4:]  # \"www.\" 제거\n",
        "    return domain"
      ]
    },
    {
      "cell_type": "code",
      "execution_count": null,
      "id": "613609a8-3706-43e1-bdc8-aa65d4039c90",
      "metadata": {
        "id": "613609a8-3706-43e1-bdc8-aa65d4039c90"
      },
      "outputs": [],
      "source": [
        "# 태그 제거\n",
        "def clean_html_tags(text):\n",
        "    return re.sub(r\"<.*?>\", \"\", text)\n",
        "\n",
        "# 날짜 형식 지정\n",
        "def format_date(pub_date_str):\n",
        "    try:\n",
        "        dt = parsedate_to_datetime(pub_date_str)\n",
        "        return dt.strftime(\"%Y-%m-%d %H:%M\")  # 예: 2025-05-06 10:59\n",
        "    except Exception as e:\n",
        "        print(f\"날짜 파싱 오류: {e}\")\n",
        "        return pub_date_str"
      ]
    },
    {
      "cell_type": "code",
      "execution_count": null,
      "id": "c021175c-7de3-43f0-b5bf-08b960e61493",
      "metadata": {
        "id": "c021175c-7de3-43f0-b5bf-08b960e61493"
      },
      "outputs": [],
      "source": [
        "# 네이버 API 키 (자신의 API 키로 교체하세요)\n",
        "client_id = \"gh33NVdUbiTCVrbFAQhV\"\n",
        "client_secret = \"Wg6SoJlOj6\"\n",
        "\n",
        "# 뉴스 데이터를 담을 리스트\n",
        "news_data = []"
      ]
    },
    {
      "cell_type": "code",
      "source": [
        "# 요청 URL을 위한 기본 설정\n",
        "base_url = \"https://openapi.naver.com/v1/search/news.json\"\n",
        "\n",
        "# 네이버 API 요청 헤더 설정\n",
        "headers = {\n",
        "    \"X-Naver-Client-Id\": client_id,\n",
        "    \"X-Naver-Client-Secret\": client_secret\n",
        "}"
      ],
      "metadata": {
        "id": "bxSvJYZGRiJA"
      },
      "id": "bxSvJYZGRiJA",
      "execution_count": null,
      "outputs": []
    },
    {
      "cell_type": "code",
      "source": [
        "# 요청할 뉴스의 총 개수\n",
        "page_offset = 2000  # 수동 조정(페이지 번호)\n",
        "\n",
        "total_news_count = 1000 # 몇 개 가져올지\n",
        "display_count = 100  # 한 번에 가져올 뉴스 수\n",
        "\n",
        "# API에서 받아올 페이지 수 (예: 100 페이지 * 100개 = 10000개)\n",
        "total_pages = total_news_count // display_count\n",
        "\n",
        "\n",
        "# 여러 페이지의 뉴스 정보를 가져오는 함수\n",
        "for start in range(1, total_pages + 1):\n",
        "    params = {\n",
        "        \"query\": \"스포츠\",  # 검색할 키워드\n",
        "        \"display\": display_count,  # 한 번에 100개의 뉴스\n",
        "        \"start\": page_offset + (start - 1) * display_count + 1,\n",
        "        \"sort\": \"sim\"  # 유사도 기준 정렬\n",
        "    }\n",
        "\n",
        "    try:\n",
        "        response = requests.get(base_url, headers=headers, params=params)\n",
        "        data = response.json()\n",
        "\n",
        "        # 각 기사에서 제목, 날짜, 링크, 내용 추출\n",
        "        for item in data[\"items\"]:\n",
        "            # 링크가 네이버 뉴스 주소로 시작하는 경우에만 처리\n",
        "            if item[\"link\"].startswith(\"https://n.news.naver.com/\"):\n",
        "                news_item = {\n",
        "                    \"title\": clean_html_tags(item[\"title\"]),  # 제목\n",
        "                    \"date\": format_date(item[\"pubDate\"]),  # 날짜\n",
        "                    \"link\": item[\"link\"],  # 링크\n",
        "                    \"content\": get_article_content(item[\"link\"]),  # 기사 내용 (요약)\n",
        "                    \"journal\": news_media_mapping.get(extract_domain(item[\"originallink\"]), \"Unknown\")   # 언론사\n",
        "                }\n",
        "                news_data.append(news_item)\n",
        "\n",
        "        # 요청 사이에 시간 지연을 주어 서버 부하 방지\n",
        "        time.sleep(1)  # 1초의 딜레이를 주어 요청 속도를 조절\n",
        "\n",
        "    except Exception as e:\n",
        "        print(f\"Error occurred while fetching data for page {start}: {e}\")\n",
        "        break\n",
        "\n",
        "print(f'현재까지 수집된 기사 수: {len(news_data)}')"
      ],
      "metadata": {
        "id": "FlcrI6mlRhGI",
        "outputId": "05db0648-e89b-43e9-ac1b-2742f4cc021a",
        "colab": {
          "base_uri": "https://localhost:8080/"
        }
      },
      "id": "FlcrI6mlRhGI",
      "execution_count": null,
      "outputs": [
        {
          "output_type": "stream",
          "name": "stdout",
          "text": [
            "Error occurred while fetching data for page 1: 'items'\n",
            "현재까지 수집된 기사 수: 221\n"
          ]
        }
      ]
    },
    {
      "cell_type": "code",
      "source": [
        "# 결과를 JSON 파일로 저장\n",
        "with open(\"sports_news.json\", \"w\", encoding=\"utf-8\") as f:\n",
        "    json.dump(news_data, f, ensure_ascii=False, indent=4)\n",
        "\n",
        "print(f\"총 {len(news_data)}개의 뉴스가 저장되었습니다.\")"
      ],
      "metadata": {
        "id": "MwOWIrUJRrva",
        "outputId": "0999f86d-98dd-47c7-aedf-9e99c7240ec7",
        "colab": {
          "base_uri": "https://localhost:8080/"
        }
      },
      "id": "MwOWIrUJRrva",
      "execution_count": null,
      "outputs": [
        {
          "output_type": "stream",
          "name": "stdout",
          "text": [
            "총 221개의 뉴스가 저장되었습니다.\n"
          ]
        }
      ]
    },
    {
      "cell_type": "code",
      "execution_count": 5,
      "id": "2fb60e6a-91bf-4a08-a631-6dd6912952eb",
      "metadata": {
        "id": "2fb60e6a-91bf-4a08-a631-6dd6912952eb",
        "outputId": "46b45db8-0fdb-4645-9361-012fb90fbb6a",
        "colab": {
          "base_uri": "https://localhost:8080/"
        }
      },
      "outputs": [
        {
          "output_type": "stream",
          "name": "stdout",
          "text": [
            "{'title': \"코오롱스포츠, 서도호 작가 전시 '더 제네시스 익스비션' 참여\", 'date': '2025-05-06 10:59', 'link': 'https://n.news.naver.com/mnews/article/001/0015370959?sid=101', 'content': '코오롱스포츠, 서도호 작가 전시 \\'더 제네시스 익스비션\\' 참여[코오롱인더스트리FnC부문 제공. 재판매 및 DB 금지](서울=연합뉴스) 강애란 기자 = 코오롱인더스트리FnC부문의 아웃도어 브랜드 코오롱스포츠는 세계적인 작가 서도호와 협업했다고 6일 밝혔다.서 작가는 우리나라를 대표하는 설치미술가이자 현대미술가로, 영국 런던을 기반으로 세계 무대에서 활동하고 있다.코오롱스포츠는 지난 1일부터 영국 런던 테이트 모던 미술관에서 연 서 작가의 대규모 전시회 \\'더 제네시스 익스비션: 서도호:워크 더 하우스\\'에 참여했다.코오롱스포츠가 협업한 작품은 \\'브릿지 프로젝트\\'의 \\'S.O.S 수트\\'로 코오롱스포츠의 기술력을 집약한 라이프텍 재킷을 재해석했다.서 작가는 집의 가장 작은 단위를 옷으로 가정하고 옷의 기능과 기술을 연구해 극한의 환경에서 생존할 수 있는 방법을 작품으로 승화시켰다. 기능적으로 생존복이지만 개념적으로는 완벽한 집이라는 상징성을 담았다.코오롱스포츠 관계자는 \"이번 작품은 생존이라는 키워드 아래, 예술과 기술이 교차하는 지점을 구현했다\"며 \"앞으로도 다양한 분야와의 협업을 통해 브랜드 가치를 더욱 다층적으로 표현하고 사람과 환경, 기술을 잇는 브랜드로 나아가겠다\"고 말했다.aeran@yna.co.kr', 'journal': '연합뉴스'}\n"
          ]
        }
      ],
      "source": [
        "# 저장된 JSON 파일 열기\n",
        "with open(\"sports_news.json\", \"r\", encoding=\"utf-8\") as f:\n",
        "    news_data = json.load(f)\n",
        "\n",
        "# 첫 번째 뉴스의 content 확인\n",
        "first_news_content = news_data[0]\n",
        "\n",
        "print(first_news_content)"
      ]
    },
    {
      "cell_type": "code",
      "execution_count": 10,
      "id": "dc356d9e-2dad-4f77-85a2-298d419ed0b6",
      "metadata": {
        "id": "dc356d9e-2dad-4f77-85a2-298d419ed0b6",
        "outputId": "7f75a2ff-30d5-467d-c01a-73da3e7dec55",
        "colab": {
          "base_uri": "https://localhost:8080/"
        }
      },
      "outputs": [
        {
          "output_type": "stream",
          "name": "stdout",
          "text": [
            "교황 합성 사진 논란에…트럼프 &quot;아내는 귀엽다더라&quot;\n",
            "트럼프 “교황 합성 사진은 장난…아내는 귀엽다고 해&quot;\n",
            "트럼프, '교황 합성사진' 논란에 &quot;아내는 귀엽다고 하던데&quot;\n",
            "“아내는 교황 합성사진 귀엽다던데”…트럼프 발언에 신자들 ‘부글부...\n",
            "'교황 합성 사진 논란' 트럼프 &quot;아내는 귀엽다더라&quot;\n",
            "트럼프, 교황 합성사진 논란에 &quot;아내가 귀엽다던데&quot;\n",
            "애물단지서 스포츠메카로…용인 미르스타디움의 변신\n",
            "[동정]김홍배 전 스포츠서울 출판기획팀 국장, 큰아들 결혼\n",
            "인하대 스포츠파크 개장…지역사회에도 개방\n",
            "LGU+, e스포츠 행사서 '와이파이7' 경쟁력 선보인다\n",
            "스포츠 역베팅 사기사건 수사 속도…제주 센터장 2명 구속\n",
            "인하대, 복합 스포츠 공간인 ‘인하 스포츠파크’ 개장\n",
            "연예인 내세운 대형 스포츠센터 갑자기 폐업‥장기 회원권도 팔았는데\n",
            "국내 시장 침체에도…'EV3' 덕에 전기차 판매는 더 늘었다\n",
            "넥센타이어와 역동적인 모터스포츠 체험하세요\n",
            "LG U+, e스포츠 행사서 4배 빠른 와이파이7 공유기 체험부스 운영\n",
            "경찰, 스포츠 역베팅 제주 센터장 2명 구속\n",
            "서울교육감배 학교스포츠클럽대회 10일 개막…9월까지\n",
            "진주시,‘제64회 경상남도민체육대회’ 대장정 마무리\n",
            "페라리, 모터스포츠 경험 담은 880마력의 ‘296 스페치알레’·’296 스페...\n",
            "서울 학생 5만여명 참가하는 '학교스포츠클럽대회' 5월 개막\n",
            "삼성라이온즈, 5월 포항 출격...프로야구 3연전 '포항' 달군다\n",
            "제주경찰, 스포츠 역베팅 투자 사기 수사 속도…2명 구속\n",
            "경과원, 서울국제가구전서 29억 상담 실적\n",
            "복합스포츠문화공간 'SERI PAK with 용인' 5월 개관\n",
            "인하대, 인하 스포츠파크 개장…기존 운동장 시설 개선\n",
            "금호타이어 초고성능 퍼포먼스 '엑스타 스포츠' 출시\n",
            "경기도, 46개 치매안심센터서...예방·진단·돌봄까지\n",
            "서천군, 제3차 정책현답 추진…종합 스포츠단지 점검\n",
            "[부고] 원영신(연세대 스포츠응용산업학과 명예교수)씨 별세 외\n",
            "대전시교육청, 우리마을스포츠클럽 '동고동락' 협약식\n",
            "남성이 여성보다 강하다?…&quot;익스트림 스포츠에선 안통해&quot;\n",
            "대전시, 스포츠 꿈씨패밀리 캐릭터 첫 공개\n",
            "크래프톤, 배틀그라운드 e스포츠 국제대회 ‘PGS 7’ 개최\n",
            "형지엘리트-롯데온과 전략적 업무제휴 체결, 스포츠 사업 영역 넓힌다 ...\n",
            "&quot;스포츠 환경 변화 대처하려면 스포츠청 설립 필요&quot;\n",
            "‘피해금액 47억’ 스포츠 역베팅 사기…제주지역 센터장 2명 구속\n",
            "용인시, 상현4지구 ‘지식산업센터’ 추가 설립\n",
            "합천군, 체육 인프라 강화와 전국대회 유치…스포츠 중심 도시로 위상 ...\n",
            "수원시, 반려동물 등록 자진신고 운영\n",
            "수원시, 일제 강점기 격렬했던 저항의 역사 ‘한눈에’\n",
            "장흥군, 내달 1일 파크골프장 '재개장'\n",
            "넵튠·님블뉴런 ‘이터널 리턴’ 문체부 지정 이스포츠 전문 종목 됐다\n",
            "‘미래·문화·스포츠제전’ 제64회 경남도체, 2일 진주서 ‘팡파르’\n",
            "대전시, 대학생이 참여한 '스포츠 꿈씨패밀리' 첫선\n",
            "안양시, 미취업 청년 어학·자격시험 응시료 최대 30만 원 지원\n",
            "갯벌서 느끼는 모터스포츠… 관람 넘어 직접 체험한다\n",
            "용인시, 고위험군 코로나19 예방접종 6월까지 연장\n",
            "&quot;틀리면 돈 준대&quot; 제주 휩쓴 '스포츠 역베팅' 180명 속았다…47억원 피해\n",
            "논두렁 잔디, NC파크 참사…프로리그 흥행의 이면[이종성의 스포츠 읽기...\n",
            "대전시, 스포츠 꿈씨패밀리 캐릭터 첫 공개\n",
            "장애인 스포츠 선수단, 진에어 날개 달았다\n",
            "카카오게임즈, ‘배틀그라운드’ 대학생 e스포츠 ‘다나와배 대학최강...\n",
            "진에어, 장애인 스포츠 선수 입단식 진행\n",
            "경북도민체전 성공 기원 '신바람 행복 콘서트' 성료\n",
            "넵튠 ‘이터널 리턴’, 문화체육관광부 지정 e스포츠 전문 종목으로 승...\n",
            "위메이드, 스포츠 매개로 블록체인 기술 대중화 앞장\n",
            "쿠팡, 스포츠∙레저용품 1만여개 60%대 할인하는 '레저대란' 연다\n",
            "정명근“부처의 가르침 따라 화성시를 자비롭고 희망찬 도시로 만들겠다...\n",
            "넵튠-님블뉴런 '이터널 리턴', 2년 만에 문체부 e스포츠 전문 종목 승격\n",
            "경찰, 스포츠 역베팅 제주 센터장 2명 구속\n",
            "경기도, 분쟁조정 통해 가맹본부와 점주 간 상생협력\n",
            "대한한의사협회, 국가대표선수협회와 선수 건강 증진 협약\n",
            "크래프톤, 배틀그라운드 e스포츠 국제대회 ‘PGS 7’ 개최\n",
            "美GM 수출 캐딜락은 '무관세' 타고 질주하는데…\n",
            "대전시, 스포츠 꿈씨패밀리 캐릭터 공개...역동성과 친근함 강화\n",
            "넵튠-님블뉴런, '이터널 리턴' 문체부 이스포츠 종목으로 승격\n",
            "[포토뉴스]강릉시, 보령시 고향사랑기부금 1500만원 교차기부\n",
            "이터널 리턴, 문체부 지정 e스포츠 전문 종목 승격\n",
            "위메이드, 블록체인 대중화 위해 스포츠 분야 주목\n",
            "스포츠 역베팅 투자자 모은 60대 여성 체포\n",
            "기아, 니로 하이브리드 신규 트림 출시…3206만원\n",
            "이장우 대전시장 &quot;프로스포츠 시민 자긍심, 행정 시너지로 드높여야&quot;\n",
            "MZ 스포츠 브랜드 오닐 “리유저블백 받아가세요”\n",
            "안양대 스포츠응용산업학과, 산학협력 연계 특강으로 재학생 실무역량...\n",
            "수원시, 다자녀가정 100가구 무료 스포츠 관람 '혜택'\n",
            "콘티넨탈, 여름용 고성능 타이어 ‘스포츠콘택트7’ 예약 주문 개시\n",
            "LCK 홈경기, 수원에서 처음 열려…이재준 수원시장 &quot;수원을 마음껏 즐겨...\n",
            "2025 소노도그스포츠리그, 5월 개막…국가대표팀 총출동\n",
            "배틀그라운드, e스포츠 국제대회 ‘PGS 7’ 개최…젠지→T1 韓 5개팀 출전\n",
            "넵튠-님블뉴런 '이터널 리턴', 문화체육관광부 지정 e스포츠 전문 종목...\n",
            "&quot;4배 빠른 와이파이7 느껴봐&quot;…LG U+, 젠지 홈스탠드서 체험 부스 운영\n",
            "'4번 타자' 꿈돌이 등장… 대전시, 스포츠 꿈씨패밀리 선보인다\n",
            "대구보건대 스포츠재활학과-G&amp;H BIO, 산학협력\n",
            "스포츠 역베팅 투자자 모은 60대 여성 체포\n",
            "목포시, 생활체육대축전 성공 개최로 도시 브랜드 향상\n",
            "스포츠 스타들에게 무슨 일이…강동희·임창용 나란히 '징역형'\n",
            "속초시 &lt;청소년 버스 무료 이용 지원 사업&gt; 사전 준비 박차!\n",
            "[약손+] 삶의 질 높이는 제3의학 ‘재활 치료’ ③재활의학 분야는?\n",
            "[북한 영상] 소년단 야영소 해양 스포츠\n",
            "쿠팡, 달리기 열풍에 '러닝 맞춤템' 할인\n",
            "하나은행, 농구 국가대표팀 공식 후원… 이호성 &quot;든든한 스포츠 지원&quot;\n",
            "양산시, 5월 대규모 체육행사로 스포츠 열기 고조\n",
            "춘천시, 폭염저감시설 확대...“시민이 시원해야 여름이 안전하다”\n",
            "포르쉐, 963 기반의 새로운 초고성능 스포츠카 선보일까?\n",
            "66만㎞ 달린 아이오닉5, 배터리 잔존수명 87%였다\n",
            "화천 전국 단위 스포츠대회 잇단 개최 ‘지역경제 UP’\n",
            "“슛~ 골! 로봇이 축구경기 뛴다”…中 첫 휴머노이드로봇 스포츠대회\n",
            "모터스포츠도 '돈' 되는 차에?…현대차, 제네시스에 힘 준다 [취재여담...\n",
            "&quot;입장권 NFT 판매&quot;…위메이드, 스포츠로 '블록체인 대중화' 앞장\n"
          ]
        }
      ],
      "source": [
        "# \"journal\" 값이 \"Unknown\"인 데이터만 추출\n",
        "unknown_journal_data = [item for item in news_data if item['journal'] == 'Unknown']\n",
        "\n",
        "# title만 한 줄씩 출력\n",
        "for item in unknown_journal_data:\n",
        "    print(item['title'])"
      ]
    },
    {
      "cell_type": "code",
      "source": [],
      "metadata": {
        "id": "8n46K3zFLO7T"
      },
      "id": "8n46K3zFLO7T",
      "execution_count": null,
      "outputs": []
    }
  ],
  "metadata": {
    "kernelspec": {
      "display_name": "Python 3 (ipykernel)",
      "language": "python",
      "name": "python3"
    },
    "language_info": {
      "codemirror_mode": {
        "name": "ipython",
        "version": 3
      },
      "file_extension": ".py",
      "mimetype": "text/x-python",
      "name": "python",
      "nbconvert_exporter": "python",
      "pygments_lexer": "ipython3",
      "version": "3.12.7"
    },
    "colab": {
      "provenance": [],
      "include_colab_link": true
    }
  },
  "nbformat": 4,
  "nbformat_minor": 5
}